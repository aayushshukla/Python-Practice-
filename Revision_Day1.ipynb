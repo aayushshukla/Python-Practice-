{
  "nbformat": 4,
  "nbformat_minor": 0,
  "metadata": {
    "colab": {
      "provenance": []
    },
    "kernelspec": {
      "name": "python3",
      "display_name": "Python 3"
    },
    "language_info": {
      "name": "python"
    }
  },
  "cells": [
    {
      "cell_type": "code",
      "execution_count": 1,
      "metadata": {
        "colab": {
          "base_uri": "https://localhost:8080/"
        },
        "id": "vGgpq2aFnaao",
        "outputId": "c2dc9c36-7f72-40ac-ea06-8d482a52a81f"
      },
      "outputs": [
        {
          "output_type": "stream",
          "name": "stdout",
          "text": [
            "3.3333333333333335\n"
          ]
        }
      ],
      "source": [
        "x =10\n",
        "y=3\n",
        "print(x/y)"
      ]
    },
    {
      "cell_type": "code",
      "source": [
        "print(x//y)"
      ],
      "metadata": {
        "colab": {
          "base_uri": "https://localhost:8080/"
        },
        "id": "XYXDaeSun9II",
        "outputId": "20eab2ca-44d6-4e19-f1b7-4945e9407e60"
      },
      "execution_count": 2,
      "outputs": [
        {
          "output_type": "stream",
          "name": "stdout",
          "text": [
            "3\n"
          ]
        }
      ]
    },
    {
      "cell_type": "code",
      "source": [
        "# What is difference between list and tuple\n",
        "# list : dynamic size , ordered , unsorted , mutable :  we can change or modify\n",
        "l=[1,2,3]\n",
        "l.append(10)\n",
        "print(l)"
      ],
      "metadata": {
        "colab": {
          "base_uri": "https://localhost:8080/"
        },
        "id": "h5WNAvWOoAoi",
        "outputId": "41ccdaa3-78c7-4a8d-b5cd-2760895b539e"
      },
      "execution_count": 3,
      "outputs": [
        {
          "output_type": "stream",
          "name": "stdout",
          "text": [
            "[1, 2, 3, 10]\n"
          ]
        }
      ]
    },
    {
      "cell_type": "code",
      "source": [
        "#tuple : fixed size , immutable : it can not  be change or modified\n",
        "t=(10,20)"
      ],
      "metadata": {
        "id": "wOHEf6hmoxpz"
      },
      "execution_count": 4,
      "outputs": []
    },
    {
      "cell_type": "code",
      "source": [
        "t[1]=100\n",
        "print(t)"
      ],
      "metadata": {
        "colab": {
          "base_uri": "https://localhost:8080/",
          "height": 158
        },
        "id": "TEZ4atecpKPu",
        "outputId": "2e8b0787-25cc-43f5-ff4a-a30e5ca4667f"
      },
      "execution_count": 5,
      "outputs": [
        {
          "output_type": "error",
          "ename": "TypeError",
          "evalue": "'tuple' object does not support item assignment",
          "traceback": [
            "\u001b[0;31m---------------------------------------------------------------------------\u001b[0m",
            "\u001b[0;31mTypeError\u001b[0m                                 Traceback (most recent call last)",
            "\u001b[0;32m<ipython-input-5-70e7b7c1224b>\u001b[0m in \u001b[0;36m<cell line: 1>\u001b[0;34m()\u001b[0m\n\u001b[0;32m----> 1\u001b[0;31m \u001b[0mt\u001b[0m\u001b[0;34m[\u001b[0m\u001b[0;36m1\u001b[0m\u001b[0;34m]\u001b[0m\u001b[0;34m=\u001b[0m\u001b[0;36m100\u001b[0m\u001b[0;34m\u001b[0m\u001b[0;34m\u001b[0m\u001b[0m\n\u001b[0m\u001b[1;32m      2\u001b[0m \u001b[0mprint\u001b[0m\u001b[0;34m(\u001b[0m\u001b[0mt\u001b[0m\u001b[0;34m)\u001b[0m\u001b[0;34m\u001b[0m\u001b[0;34m\u001b[0m\u001b[0m\n",
            "\u001b[0;31mTypeError\u001b[0m: 'tuple' object does not support item assignment"
          ]
        }
      ]
    },
    {
      "cell_type": "code",
      "source": [
        "a=10,20,30\n",
        "print(a)  # packing"
      ],
      "metadata": {
        "colab": {
          "base_uri": "https://localhost:8080/"
        },
        "id": "YBpAkMvCpbiy",
        "outputId": "f163cbc7-6d42-49cf-9838-04dfce939ccb"
      },
      "execution_count": 6,
      "outputs": [
        {
          "output_type": "stream",
          "name": "stdout",
          "text": [
            "(10, 20, 30)\n"
          ]
        }
      ]
    },
    {
      "cell_type": "code",
      "source": [
        "x,y,z=a  #unpacking\n",
        "print(x)\n",
        "print(y)\n",
        "print(z)"
      ],
      "metadata": {
        "colab": {
          "base_uri": "https://localhost:8080/"
        },
        "id": "lnRivFJ5qBfC",
        "outputId": "e5d8561b-bbf7-42f4-8c36-887f759469af"
      },
      "execution_count": 10,
      "outputs": [
        {
          "output_type": "stream",
          "name": "stdout",
          "text": [
            "10\n",
            "20\n",
            "30\n"
          ]
        }
      ]
    },
    {
      "cell_type": "code",
      "source": [],
      "metadata": {
        "id": "XR0Z0LyMqUUz"
      },
      "execution_count": 8,
      "outputs": []
    },
    {
      "cell_type": "code",
      "source": [
        "l = [10,20,30,10,10,40,50,10]\n",
        "e=int(input('enter element to find occurance'))\n",
        "occ =l.count(e)\n",
        "if occ!=0:\n",
        "  print(\"Element found in list\",occ,'times')\n",
        "else:\n",
        "  print('element not found')"
      ],
      "metadata": {
        "colab": {
          "base_uri": "https://localhost:8080/"
        },
        "id": "Vic-ArDuqWxv",
        "outputId": "e927872f-4592-4ea4-929c-30f1edcc73b9"
      },
      "execution_count": 13,
      "outputs": [
        {
          "output_type": "stream",
          "name": "stdout",
          "text": [
            "enter element to find occurance100\n",
            "element not found\n"
          ]
        }
      ]
    },
    {
      "cell_type": "code",
      "source": [
        "#find an element in list without using count or inbuilt fucntions and show the position of given element if found\n"
      ],
      "metadata": {
        "id": "gQ6jK_lurGsQ"
      },
      "execution_count": 14,
      "outputs": []
    },
    {
      "cell_type": "code",
      "source": [
        "l = [10,20,30,10,10,40,50,10]  #lineat search\n",
        "e=int(input('enter element to find occurance'))\n",
        "count=0\n",
        "position=[]\n",
        "#for var in iterator :\n",
        "# range(start=0,end,step=1)  end will excluded\n",
        "for index in range(0,len(l)):\n",
        "  #print(f'value at index {index} ={l[index]}')\n",
        "  if l[index]==e:\n",
        "    # count =count+1\n",
        "    count+=1\n",
        "    position.append(index)\n",
        "\n",
        "if count!=0:\n",
        "  print (f'{e} found in list .No of occurance {count} .Postions = {position}')\n",
        "else:\n",
        "  print(f'{e} is not found in list')\n"
      ],
      "metadata": {
        "colab": {
          "base_uri": "https://localhost:8080/"
        },
        "id": "lai08O_iraRp",
        "outputId": "1cdd6e2d-1dcd-4c77-dde3-f320c8a57786"
      },
      "execution_count": 24,
      "outputs": [
        {
          "output_type": "stream",
          "name": "stdout",
          "text": [
            "enter element to find occurance100\n",
            "100 is not found in list\n"
          ]
        }
      ]
    },
    {
      "cell_type": "code",
      "source": [
        "\n",
        "l = [10,20,30,10,10,40,50,10]  #lineat search\n",
        "e=int(input('enter element to find occurance'))\n",
        "count=0\n",
        "pos=0\n",
        "position=[]\n",
        "#for var in iterator :\n",
        "# range(start=0,end,step=1)  end will excluded\n",
        "for element in l:\n",
        "  #print(f'value at index {index} ={l[index]}')\n",
        "  if element==e:\n",
        "    # count =count+1\n",
        "    count+=1\n",
        "    position.append(pos)\n",
        "  pos+=1\n",
        "\n",
        "if count!=0:\n",
        "  print (f'{e} found in list .No of occurance {count} .Postions = {position}')\n",
        "else:\n",
        "  print(f'{e} is not found in list')"
      ],
      "metadata": {
        "colab": {
          "base_uri": "https://localhost:8080/"
        },
        "id": "TVfXhjgrujdl",
        "outputId": "ff4420fa-8eae-4d8e-cf58-06bd85fe4a17"
      },
      "execution_count": 27,
      "outputs": [
        {
          "output_type": "stream",
          "name": "stdout",
          "text": [
            "enter element to find occurance100\n",
            "100 is not found in list\n"
          ]
        }
      ]
    },
    {
      "cell_type": "code",
      "source": [
        "#remove  all the occurance of given element from a list\n",
        "l = [10,20,30,10,10,40,50,10]\n",
        "e=int(input('enter element to remove from list'))\n",
        "while e in l:\n",
        "  l.remove(e)\n",
        "\n",
        "print(l)\n"
      ],
      "metadata": {
        "colab": {
          "base_uri": "https://localhost:8080/"
        },
        "id": "mLwt8Tp2ulHD",
        "outputId": "a0771b72-4445-43a8-8f4c-9618789a5afb"
      },
      "execution_count": 30,
      "outputs": [
        {
          "output_type": "stream",
          "name": "stdout",
          "text": [
            "enter element to remove from list10\n",
            "[20, 30, 40, 50]\n"
          ]
        }
      ]
    },
    {
      "cell_type": "code",
      "source": [
        "l = [10,20,30,10,10,40,50,10]\n",
        "l1=l.copy()\n",
        "e=int(input('enter element to remove from list'))\n",
        "\n",
        "for index in range(len(l)):\n",
        "  if l[index]==e:\n",
        "    l1.remove(e)\n",
        "print(l1)"
      ],
      "metadata": {
        "colab": {
          "base_uri": "https://localhost:8080/"
        },
        "id": "mPE03dq1y7uX",
        "outputId": "78fbd687-79d3-4d07-bc37-c7840848e4bb"
      },
      "execution_count": 34,
      "outputs": [
        {
          "output_type": "stream",
          "name": "stdout",
          "text": [
            "enter element to remove from list10\n",
            "[20, 30, 40, 50]\n"
          ]
        }
      ]
    },
    {
      "cell_type": "code",
      "source": [
        "# write program to print factorial of a number\n",
        "n=int(input('enter no'))\n",
        "fact =1\n",
        "\n",
        "for i in range(1,n+1):  #3  1,2,3\n",
        "  fact *=i\n",
        "\n",
        "print(f'{n} != {fact}')"
      ],
      "metadata": {
        "colab": {
          "base_uri": "https://localhost:8080/"
        },
        "id": "NrSBGAd80-CC",
        "outputId": "efff3679-e537-41ca-81ef-1c3c695f9a8a"
      },
      "execution_count": 35,
      "outputs": [
        {
          "output_type": "stream",
          "name": "stdout",
          "text": [
            "enter no5\n",
            "5 != 120\n"
          ]
        }
      ]
    },
    {
      "cell_type": "code",
      "source": [
        "# write program to print factorial of a number using recurssion\n",
        "\n",
        "def factorial(n):\n",
        "  #base code\n",
        "  if n==0 or n==1:\n",
        "    return 1\n",
        "  else :    #  3 *2 *1  = 3 * 2! = 2! = 2 * 1! =1\n",
        "     # recursive code\n",
        "     return n* factorial(n-1)  # 3 * factorial(2)    2 *factorial(1)= 2*1=2\n",
        "\n",
        "n = int(input('enter the number'))\n",
        "print(f'factorail of {n} = {factorial(n)}')"
      ],
      "metadata": {
        "colab": {
          "base_uri": "https://localhost:8080/"
        },
        "id": "TfL1R48m3pHE",
        "outputId": "57a7c629-c61f-47ff-c943-6c7c5393f39a"
      },
      "execution_count": 37,
      "outputs": [
        {
          "output_type": "stream",
          "name": "stdout",
          "text": [
            "enter the number6\n",
            "factorail of 6 = 720\n"
          ]
        }
      ]
    },
    {
      "cell_type": "code",
      "source": [
        "import math\n",
        "n = int(input('enter the number'))\n",
        "print(math.factorial(n))"
      ],
      "metadata": {
        "colab": {
          "base_uri": "https://localhost:8080/"
        },
        "id": "5JPPm-Lk46G9",
        "outputId": "684865b9-540a-478d-b12b-42e3843e0140"
      },
      "execution_count": 38,
      "outputs": [
        {
          "output_type": "stream",
          "name": "stdout",
          "text": [
            "enter the number5\n",
            "120\n"
          ]
        }
      ]
    },
    {
      "cell_type": "code",
      "source": [
        "def show(n):\n",
        "  if n<10:\n",
        "    print(n)\n",
        "    n=n+1\n",
        "    show(n)\n",
        "\n",
        "show(1)"
      ],
      "metadata": {
        "colab": {
          "base_uri": "https://localhost:8080/"
        },
        "id": "DGP41NE15Mn0",
        "outputId": "3ed5dd7e-7883-44c9-b61f-a9ad515c45f5"
      },
      "execution_count": 39,
      "outputs": [
        {
          "output_type": "stream",
          "name": "stdout",
          "text": [
            "1\n",
            "2\n",
            "3\n",
            "4\n",
            "5\n",
            "6\n",
            "7\n",
            "8\n",
            "9\n"
          ]
        }
      ]
    },
    {
      "cell_type": "code",
      "source": [
        "# check a number is a prime number or not\n",
        "# Number divisible by 1 or itself like 3, 7 , 13 etc\n",
        "\n",
        "n=int(input('enter no to check it is prime or not'))\n",
        "flag=0\n",
        "for i in range(2,n):\n",
        "  if n%i==0:\n",
        "    flag=1\n",
        "    break\n",
        "\n",
        "if flag==1:\n",
        "  print(f'{n} is not a prime no')\n",
        "else:\n",
        "  print(f'{n} is a prime no')\n",
        "\n"
      ],
      "metadata": {
        "colab": {
          "base_uri": "https://localhost:8080/"
        },
        "id": "kDXqxitC53RN",
        "outputId": "05bd3966-fde2-4244-ae17-f900f7f3707c"
      },
      "execution_count": 45,
      "outputs": [
        {
          "output_type": "stream",
          "name": "stdout",
          "text": [
            "enter no to check it is prime or not39\n",
            "39 is not a prime no\n"
          ]
        }
      ]
    },
    {
      "cell_type": "code",
      "source": [
        "n=int(input('enter no to check it is prime or not'))\n",
        "flag=0\n",
        "for i in range(2,(n//2)+1):\n",
        "  if n%i==0:\n",
        "    flag=1\n",
        "    break\n",
        "\n",
        "if flag==1:\n",
        "  print(f'{n} is not a prime no')\n",
        "else:\n",
        "  print(f'{n} is a prime no')"
      ],
      "metadata": {
        "colab": {
          "base_uri": "https://localhost:8080/"
        },
        "id": "fMGyDvse9dvY",
        "outputId": "5824ee2b-a3e4-4d15-c500-dbcb170f6541"
      },
      "execution_count": 48,
      "outputs": [
        {
          "output_type": "stream",
          "name": "stdout",
          "text": [
            "enter no to check it is prime or not39\n",
            "39 is not a prime no\n"
          ]
        }
      ]
    },
    {
      "cell_type": "code",
      "source": [
        "def checkPrime(n,i):\n",
        "  if n%i==0:\n",
        "    return 1\n",
        "  else:\n",
        "    checkPrime(n,i+1)\n",
        "\n",
        "n=int(input('enter no'))\n",
        "res = checkPrime(n,3)\n",
        "if res ==1:\n",
        "  print('not prime')\n",
        "else:\n",
        "  print('prime')"
      ],
      "metadata": {
        "colab": {
          "base_uri": "https://localhost:8080/"
        },
        "id": "3KQxKCZb9yK5",
        "outputId": "7d7101de-7761-4ba2-ab78-7002e8a40fed"
      },
      "execution_count": 58,
      "outputs": [
        {
          "output_type": "stream",
          "name": "stdout",
          "text": [
            "enter no21\n",
            "not prime\n"
          ]
        }
      ]
    },
    {
      "cell_type": "code",
      "source": [
        "d={'iocl':150,'hdfc':1200}  # key:value , key are unique ,keys immutable, dictionary is order or unorder\n",
        "#before python 3.6 dictionary was unorder\n",
        "d1={} #empty dictionary\n",
        "print(type(d1))\n",
        "print(d)"
      ],
      "metadata": {
        "colab": {
          "base_uri": "https://localhost:8080/"
        },
        "id": "NB2SzDT2_sC1",
        "outputId": "e563e744-98c1-4056-fa1e-1cde3815b023"
      },
      "execution_count": 62,
      "outputs": [
        {
          "output_type": "stream",
          "name": "stdout",
          "text": [
            "<class 'dict'>\n",
            "{'iocl': 150, 'hdfc': 1200}\n"
          ]
        }
      ]
    },
    {
      "cell_type": "code",
      "source": [
        "d['sbi']=800\n",
        "print(d)"
      ],
      "metadata": {
        "colab": {
          "base_uri": "https://localhost:8080/"
        },
        "id": "_Fz5AKOBBfOt",
        "outputId": "a418ba24-23d3-440a-c444-c49f59b7bb51"
      },
      "execution_count": 64,
      "outputs": [
        {
          "output_type": "stream",
          "name": "stdout",
          "text": [
            "{'iocl': 150, 'hdfc': 1200, 'sbi': 800}\n"
          ]
        }
      ]
    },
    {
      "cell_type": "code",
      "source": [
        "print(d.keys())\n",
        "print(d.values())\n",
        "print(d.items())"
      ],
      "metadata": {
        "colab": {
          "base_uri": "https://localhost:8080/"
        },
        "id": "BCVv1LtLCbvh",
        "outputId": "49c5e6b8-fe06-4246-e8d4-4db0c2402a1a"
      },
      "execution_count": 66,
      "outputs": [
        {
          "output_type": "stream",
          "name": "stdout",
          "text": [
            "dict_keys(['iocl', 'hdfc', 'sbi'])\n",
            "dict_values([150, 1200, 800])\n",
            "dict_items([('iocl', 150), ('hdfc', 1200), ('sbi', 800)])\n"
          ]
        }
      ]
    },
    {
      "cell_type": "code",
      "source": [
        "for key in d.keys():\n",
        "  print(key)"
      ],
      "metadata": {
        "colab": {
          "base_uri": "https://localhost:8080/"
        },
        "id": "Eut8ZV8eCnX7",
        "outputId": "73cc29b4-1411-4b85-a1a9-0d8561a54c5c"
      },
      "execution_count": 67,
      "outputs": [
        {
          "output_type": "stream",
          "name": "stdout",
          "text": [
            "iocl\n",
            "hdfc\n",
            "sbi\n"
          ]
        }
      ]
    },
    {
      "cell_type": "code",
      "source": [
        "print('total money invested',sum(d.values()))"
      ],
      "metadata": {
        "colab": {
          "base_uri": "https://localhost:8080/"
        },
        "id": "h8_ph0jvC0dz",
        "outputId": "eb260663-055e-470f-8df4-7b132b5c4c08"
      },
      "execution_count": 68,
      "outputs": [
        {
          "output_type": "stream",
          "name": "stdout",
          "text": [
            "total money invested 2150\n"
          ]
        }
      ]
    },
    {
      "cell_type": "code",
      "source": [
        "print(d.pop('sbi'))\n",
        "print(d)"
      ],
      "metadata": {
        "colab": {
          "base_uri": "https://localhost:8080/"
        },
        "id": "k6vi6YNVC8cT",
        "outputId": "3b6b2a3a-fccb-4010-af2e-ab4ec6d3fce7"
      },
      "execution_count": 69,
      "outputs": [
        {
          "output_type": "stream",
          "name": "stdout",
          "text": [
            "800\n",
            "{'iocl': 150, 'hdfc': 1200}\n"
          ]
        }
      ]
    },
    {
      "cell_type": "code",
      "source": [
        "print(d.popitem())"
      ],
      "metadata": {
        "colab": {
          "base_uri": "https://localhost:8080/"
        },
        "id": "LRTMwFmYDE_1",
        "outputId": "9af8ebf6-b320-4b41-cf42-42c8477ce289"
      },
      "execution_count": 70,
      "outputs": [
        {
          "output_type": "stream",
          "name": "stdout",
          "text": [
            "('hdfc', 1200)\n"
          ]
        }
      ]
    },
    {
      "cell_type": "code",
      "source": [
        "print(d)"
      ],
      "metadata": {
        "colab": {
          "base_uri": "https://localhost:8080/"
        },
        "id": "QywK4wFLDODZ",
        "outputId": "8e7f0ad1-9728-42cb-b595-ed292cf0a55d"
      },
      "execution_count": 71,
      "outputs": [
        {
          "output_type": "stream",
          "name": "stdout",
          "text": [
            "{'iocl': 150}\n"
          ]
        }
      ]
    },
    {
      "cell_type": "code",
      "source": [
        "d['iocl']=300\n",
        "print(d)"
      ],
      "metadata": {
        "colab": {
          "base_uri": "https://localhost:8080/"
        },
        "id": "2kpwISG6DQLI",
        "outputId": "b3c3c9d2-9493-472d-9b38-4a12f7bf36d6"
      },
      "execution_count": 72,
      "outputs": [
        {
          "output_type": "stream",
          "name": "stdout",
          "text": [
            "{'iocl': 300}\n"
          ]
        }
      ]
    },
    {
      "cell_type": "code",
      "source": [
        "d2={'gmr':50,'bhel':250}\n",
        "d.update(d2) # values of d2 will merged in d1\n",
        "print(d)"
      ],
      "metadata": {
        "colab": {
          "base_uri": "https://localhost:8080/"
        },
        "id": "e_M2cI2SDaue",
        "outputId": "6901b340-d197-4272-a503-c4f0a77a7149"
      },
      "execution_count": 73,
      "outputs": [
        {
          "output_type": "stream",
          "name": "stdout",
          "text": [
            "{'iocl': 300, 'gmr': 50, 'bhel': 250}\n"
          ]
        }
      ]
    },
    {
      "cell_type": "code",
      "source": [],
      "metadata": {
        "id": "ZefOVGESDxfY"
      },
      "execution_count": null,
      "outputs": []
    }
  ]
}